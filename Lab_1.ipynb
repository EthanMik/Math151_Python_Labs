{
  "cells": [
    {
      "cell_type": "markdown",
      "id": "20c00fa5",
      "metadata": {
        "id": "20c00fa5"
      },
      "source": [
        "## MATH 151 Lab  1"
      ]
    },
    {
      "cell_type": "markdown",
      "id": "7c243ef1",
      "metadata": {
        "id": "7c243ef1"
      },
      "source": [
        "Section 163:\n",
        "Daniel Israr,\n",
        "Ethan Mikolaycik,\n",
        "Roman Ponce Morales,\n",
        "William Tiguila Juarez\n"
      ]
    },
    {
      "cell_type": "code",
      "execution_count": null,
      "id": "cf836732",
      "metadata": {
        "id": "cf836732"
      },
      "outputs": [],
      "source": [
        "import sympy as sp\n",
        "from sympy import *\n",
        "from sympy.plotting import (plot,plot_parametric)"
      ]
    },
    {
      "cell_type": "markdown",
      "id": "3169990f",
      "metadata": {
        "id": "3169990f"
      },
      "source": [
        "### Question 1"
      ]
    },
    {
      "cell_type": "markdown",
      "id": "f0561a86",
      "metadata": {
        "id": "f0561a86"
      },
      "source": [
        "#### 1a"
      ]
    },
    {
      "cell_type": "markdown",
      "source": [],
      "metadata": {
        "id": "1_eOFcrHOnr0"
      },
      "id": "1_eOFcrHOnr0"
    },
    {
      "cell_type": "code",
      "execution_count": null,
      "id": "cbfab3f6",
      "metadata": {
        "id": "cbfab3f6",
        "colab": {
          "base_uri": "https://localhost:8080/",
          "height": 79
        },
        "outputId": "d0dff2d9-68c6-4ba7-e776-8322796fff3a"
      },
      "outputs": [
        {
          "output_type": "display_data",
          "data": {
            "text/plain": [
              "(log(19) + exp(2))**2/2537"
            ],
            "text/latex": "$\\displaystyle \\frac{\\left(\\log{\\left(19 \\right)} + e^{2}\\right)^{2}}{2537}$"
          },
          "metadata": {}
        },
        {
          "output_type": "display_data",
          "data": {
            "text/plain": [
              "0.0420895232672672"
            ],
            "text/latex": "$\\displaystyle 0.0420895232672672$"
          },
          "metadata": {}
        }
      ],
      "source": [
        "display((E**2 + log(19))**2 / (2025 + 8**3))\n",
        "display((E**2.0 + log(19.0))**2.0 / (2025.0 + 8.0**3.0))"
      ]
    },
    {
      "cell_type": "markdown",
      "id": "efdd616f",
      "metadata": {
        "id": "efdd616f"
      },
      "source": [
        "#### 1b"
      ]
    },
    {
      "cell_type": "code",
      "execution_count": null,
      "id": "6fd5ac31",
      "metadata": {
        "id": "6fd5ac31",
        "colab": {
          "base_uri": "https://localhost:8080/",
          "height": 59
        },
        "outputId": "d0f7aa13-44a7-4e46-ab4f-f279f5364063"
      },
      "outputs": [
        {
          "output_type": "display_data",
          "data": {
            "text/plain": [
              "-sqrt(3) + 12*log(49)"
            ],
            "text/latex": "$\\displaystyle - \\sqrt{3} + 12 \\log{\\left(49 \\right)}$"
          },
          "metadata": {}
        },
        {
          "output_type": "display_data",
          "data": {
            "text/plain": [
              "44.9697927697586"
            ],
            "text/latex": "$\\displaystyle 44.9697927697586$"
          },
          "metadata": {}
        }
      ],
      "source": [
        "display(12 * log(49) + tan(2 * pi / 3))\n",
        "display(12.0 * sp.ln(49.0) + sp.tan(2.0 * sp.pi.evalf() / 3.0))\n"
      ]
    },
    {
      "cell_type": "markdown",
      "id": "8b00f000",
      "metadata": {
        "id": "8b00f000"
      },
      "source": [
        "### Question 2"
      ]
    },
    {
      "cell_type": "markdown",
      "id": "bacdc1db",
      "metadata": {
        "id": "bacdc1db"
      },
      "source": [
        "#### 2a and 2b"
      ]
    },
    {
      "cell_type": "code",
      "execution_count": null,
      "id": "be2f2c71",
      "metadata": {
        "id": "be2f2c71",
        "colab": {
          "base_uri": "https://localhost:8080/",
          "height": 116
        },
        "outputId": "273f28ec-0f41-441a-fda8-173ab8c52462"
      },
      "outputs": [
        {
          "output_type": "display_data",
          "data": {
            "text/plain": [
              "P*r*(1 + r/m)**(m*t)/(m*((1 + r/m)**(m*t) - 1))"
            ],
            "text/latex": "$\\displaystyle \\frac{P r \\left(1 + \\frac{r}{m}\\right)^{m t}}{m \\left(\\left(1 + \\frac{r}{m}\\right)^{m t} - 1\\right)}$"
          },
          "metadata": {}
        },
        {
          "output_type": "display_data",
          "data": {
            "text/plain": [
              "376.709605722993"
            ],
            "text/latex": "$\\displaystyle 376.709605722993$"
          },
          "metadata": {}
        },
        {
          "output_type": "display_data",
          "data": {
            "text/plain": [
              "454.248338097449"
            ],
            "text/latex": "$\\displaystyle 454.248338097449$"
          },
          "metadata": {}
        }
      ],
      "source": [
        "t = symbols(\"t\")\n",
        "m = symbols(\"m\")\n",
        "p = symbols(\"P\")\n",
        "r = symbols(\"r\")\n",
        "\n",
        "# Original equation\n",
        "R = p * ((r/m) * ((1 + (r/m))**(m*t))) / ((1+(r/m))**(m*t) - 1)\n",
        "# Subbing in $30,000 Initial, 7.1% Interest, monthly, 9 years\n",
        "R_9 = R.subs({t: 9, p: 30000, r: .071, m: 12})\n",
        "# Subbing in $30,000 Initial, 7.1% Interest, monthly, 7 years\n",
        "R_7 = R.subs({t: 7, p: 30000, r: .071, m: 12})\n",
        "\n",
        "display(R)\n",
        "display(R_9)\n",
        "display(R_7)"
      ]
    },
    {
      "cell_type": "markdown",
      "id": "23bc68a6",
      "metadata": {
        "id": "23bc68a6"
      },
      "source": [
        "#### 2c"
      ]
    },
    {
      "cell_type": "code",
      "execution_count": null,
      "id": "357bbf0f",
      "metadata": {
        "id": "357bbf0f",
        "colab": {
          "base_uri": "https://localhost:8080/",
          "height": 58
        },
        "outputId": "635aa4b6-74ef-4972-d10c-e3f34a4446ab"
      },
      "outputs": [
        {
          "output_type": "display_data",
          "data": {
            "text/plain": [
              "40684.6374180833"
            ],
            "text/latex": "$\\displaystyle 40684.6374180833$"
          },
          "metadata": {}
        },
        {
          "output_type": "display_data",
          "data": {
            "text/plain": [
              "38156.8604001857"
            ],
            "text/latex": "$\\displaystyle 38156.8604001857$"
          },
          "metadata": {}
        }
      ],
      "source": [
        "# Car payment at 9 years\n",
        "display(R_9 * 12 * 9)\n",
        "# Car payment at 7 years\n",
        "display(R_7 * 12 * 7)\n",
        "\n"
      ]
    },
    {
      "cell_type": "markdown",
      "id": "1fb8b9b8",
      "metadata": {
        "id": "1fb8b9b8"
      },
      "source": [
        "### Question 3"
      ]
    },
    {
      "cell_type": "markdown",
      "id": "lYrLhfBmzXoQ",
      "metadata": {
        "id": "lYrLhfBmzXoQ"
      },
      "source": [
        "#### 3a"
      ]
    },
    {
      "cell_type": "code",
      "execution_count": null,
      "id": "DOUrj2e3zQG3",
      "metadata": {
        "id": "DOUrj2e3zQG3",
        "colab": {
          "base_uri": "https://localhost:8080/"
        },
        "outputId": "b741a9e4-08cd-4d41-9683-e53504fbeac4"
      },
      "outputs": [
        {
          "output_type": "stream",
          "name": "stdout",
          "text": [
            "Displacement Vector <16, 9>\n"
          ]
        }
      ],
      "source": [
        "# Helper class that stores an x and y for vector math\n",
        "class Vector2:\n",
        "    def __init__(self, x, y):\n",
        "        self.x = x\n",
        "        self.y = y\n",
        "\n",
        "# Returns displacement of vector2 a and b\n",
        "def displacement(a: Vector2, b: Vector2):\n",
        "  return Vector2(b.x - a.x, b.y - a.y)\n",
        "\n",
        "# Create a and b distance vectors\n",
        "a = Vector2(14, 3)\n",
        "b = Vector2(30, 12)\n",
        "\n",
        "# Find displacement from a and b\n",
        "d_vec = displacement(a, b)\n",
        "print(f\"Displacement Vector <{d_vec.x}, {d_vec.y}>\")\n"
      ]
    },
    {
      "cell_type": "markdown",
      "id": "YCGNHWLZzYx5",
      "metadata": {
        "id": "YCGNHWLZzYx5"
      },
      "source": [
        "#### 3b"
      ]
    },
    {
      "cell_type": "code",
      "execution_count": null,
      "id": "p9coou8ezY4Q",
      "metadata": {
        "id": "p9coou8ezY4Q",
        "colab": {
          "base_uri": "https://localhost:8080/"
        },
        "outputId": "6206a35b-f0d2-4ff4-ff1b-75a903cdd0d5"
      },
      "outputs": [
        {
          "output_type": "stream",
          "name": "stdout",
          "text": [
            "Magnitude of displacement vector 18.3575597506858\n"
          ]
        }
      ],
      "source": [
        "# Returns magnitude of vector2 a and b\n",
        "def magnitude(a: Vector2):\n",
        "  return sqrt((a.x**2.0 + a.y**2.0))\n",
        "\n",
        "# Find magitude of displacment vector\n",
        "mag = magnitude(d_vec)\n",
        "print(f\"Magnitude of displacement vector {mag}\")\n"
      ]
    },
    {
      "cell_type": "markdown",
      "id": "wzlRpwd-zZCA",
      "metadata": {
        "id": "wzlRpwd-zZCA"
      },
      "source": [
        "#### 3c"
      ]
    },
    {
      "cell_type": "code",
      "execution_count": null,
      "id": "DYOt7EyJzZH4",
      "metadata": {
        "id": "DYOt7EyJzZH4",
        "colab": {
          "base_uri": "https://localhost:8080/",
          "height": 56
        },
        "outputId": "a41936f0-a2d8-4513-bc0e-974751f38971"
      },
      "outputs": [
        {
          "output_type": "display_data",
          "data": {
            "text/plain": [
              "16*a + 9*b"
            ],
            "text/latex": "$\\displaystyle 16 a + 9 b$"
          },
          "metadata": {}
        },
        {
          "output_type": "stream",
          "name": "stdout",
          "text": [
            "Calculated Work: 162\n"
          ]
        }
      ],
      "source": [
        "# Returns dot product of a and b\n",
        "def dot(a: Vector2, b: Vector2):\n",
        "  return a.x * b.x + a.y * b.y\n",
        "\n",
        "# Build work equation\n",
        "a = symbols(\"a\")\n",
        "b = symbols(\"b\")\n",
        "d_vec_x = d_vec.x\n",
        "d_vec_y = d_vec.y\n",
        "\n",
        "# Calculate work\n",
        "force_vec = Vector2(9, 2)\n",
        "work = dot(d_vec, force_vec)\n",
        "\n",
        "# Displays equation and calculated value\n",
        "display((d_vec_x * a) + (d_vec_y * b))\n",
        "print(f\"Calculated Work: {work}\")\n",
        "\n"
      ]
    },
    {
      "cell_type": "markdown",
      "id": "p3Lyo9iizZQJ",
      "metadata": {
        "id": "p3Lyo9iizZQJ"
      },
      "source": [
        "#### 3d"
      ]
    },
    {
      "cell_type": "code",
      "execution_count": null,
      "id": "Yy7WHSiyzZUz",
      "metadata": {
        "id": "Yy7WHSiyzZUz",
        "colab": {
          "base_uri": "https://localhost:8080/"
        },
        "outputId": "078182a5-d47f-4c5d-cfe7-5eb48fded900"
      },
      "outputs": [
        {
          "output_type": "stream",
          "name": "stdout",
          "text": [
            "Angle (Degrees) between Force and Displacement Vector: 16.8289458336398\n"
          ]
        }
      ],
      "source": [
        "def to_deg(radian):\n",
        "  return radian * 180.0 / pi.evalf()\n",
        "\n",
        "def angle(a: Vector2, b: Vector2):\n",
        "  mag_a = magnitude(a)\n",
        "  mag_b = magnitude(b)\n",
        "  dot_a_b = dot(a, b)\n",
        "  return to_deg(acos((dot_a_b) / (mag_a * mag_b)))\n",
        "\n",
        "# Finds angle between vectors\n",
        "theta = angle(force_vec, d_vec)\n",
        "print(f\"Angle (Degrees) between Force and Displacement Vector: {theta}\")\n",
        "\n"
      ]
    }
  ],
  "metadata": {
    "colab": {
      "provenance": []
    },
    "kernelspec": {
      "display_name": "Python 3 (ipykernel)",
      "language": "python",
      "name": "python3"
    },
    "language_info": {
      "codemirror_mode": {
        "name": "ipython",
        "version": 3
      },
      "file_extension": ".py",
      "mimetype": "text/x-python",
      "name": "python",
      "nbconvert_exporter": "python",
      "pygments_lexer": "ipython3",
      "version": "3.9.18"
    }
  },
  "nbformat": 4,
  "nbformat_minor": 5
}