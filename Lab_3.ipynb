{
 "cells": [
  {
   "cell_type": "markdown",
   "id": "20c00fa5",
   "metadata": {
    "id": "20c00fa5"
   },
   "source": [
    "## MATH 151 Lab  3"
   ]
  },
  {
   "cell_type": "markdown",
   "id": "7c243ef1",
   "metadata": {
    "id": "7c243ef1"
   },
   "source": [
    "Put team members' names and section number here."
   ]
  },
  {
   "cell_type": "code",
   "execution_count": 1,
   "id": "cf836732",
   "metadata": {
    "id": "cf836732"
   },
   "outputs": [],
   "source": [
    "from sympy import *\n",
    "from sympy.plotting import (plot,plot_parametric)"
   ]
  },
  {
   "cell_type": "markdown",
   "id": "8b00f000",
   "metadata": {
    "id": "8b00f000"
   },
   "source": [
    "### Question 1"
   ]
  },
  {
   "cell_type": "markdown",
   "id": "bacdc1db",
   "metadata": {
    "id": "bacdc1db"
   },
   "source": [
    "#### 1a"
   ]
  },
  {
   "cell_type": "code",
   "execution_count": 59,
   "id": "be2f2c71",
   "metadata": {
    "id": "be2f2c71"
   },
   "outputs": [],
   "source": [
    "# Start your code here\n"
   ]
  },
  {
   "cell_type": "markdown",
   "id": "xg8PJPwLbt_V",
   "metadata": {
    "id": "xg8PJPwLbt_V"
   },
   "source": [
    "#### 1b"
   ]
  },
  {
   "cell_type": "code",
   "execution_count": 3,
   "id": "laXcXuIObvKL",
   "metadata": {
    "id": "laXcXuIObvKL"
   },
   "outputs": [],
   "source": [
    "# Start your code here\n",
    "\n"
   ]
  },
  {
   "cell_type": "markdown",
   "id": "23bc68a6",
   "metadata": {
    "id": "23bc68a6"
   },
   "source": [
    "#### 1c"
   ]
  },
  {
   "cell_type": "code",
   "execution_count": 4,
   "id": "357bbf0f",
   "metadata": {
    "id": "357bbf0f"
   },
   "outputs": [],
   "source": [
    "# Start your code here\n",
    "\n"
   ]
  },
  {
   "cell_type": "markdown",
   "id": "1fb8b9b8",
   "metadata": {
    "id": "1fb8b9b8"
   },
   "source": [
    "### Question 2"
   ]
  },
  {
   "cell_type": "markdown",
   "id": "ccffd0d0",
   "metadata": {
    "id": "ccffd0d0"
   },
   "source": [
    "#### 2a"
   ]
  },
  {
   "cell_type": "code",
   "execution_count": 5,
   "id": "9ebb9309",
   "metadata": {
    "id": "9ebb9309"
   },
   "outputs": [],
   "source": [
    "# Start your code here\n",
    "\n"
   ]
  },
  {
   "cell_type": "markdown",
   "id": "1c0a84ba",
   "metadata": {
    "id": "1c0a84ba"
   },
   "source": [
    "#### 2b"
   ]
  },
  {
   "cell_type": "code",
   "execution_count": 6,
   "id": "4bbc7faf",
   "metadata": {
    "id": "4bbc7faf"
   },
   "outputs": [],
   "source": [
    "# Start your code here\n",
    "\n"
   ]
  },
  {
   "cell_type": "markdown",
   "id": "3169990f",
   "metadata": {
    "id": "3169990f"
   },
   "source": [
    "### Question 3"
   ]
  },
  {
   "cell_type": "markdown",
   "id": "3c4f4bac",
   "metadata": {
    "id": "3c4f4bac"
   },
   "source": [
    "#### 3a"
   ]
  },
  {
   "cell_type": "code",
   "execution_count": null,
   "id": "b1fc832a",
   "metadata": {
    "id": "b1fc832a"
   },
   "outputs": [],
   "source": [
    "x = symbols(\"x\")\n",
    "\n",
    "f = 2**x\n",
    "g = x**20\n",
    "\n",
    "p1 = plot(f, (x, 0, 100), line_color = 'red', show=False)\n",
    "p2 = plot(g, (x, 0, 100), line_color = 'green', show=False)\n",
    "p1.extend(p2)\n",
    "p1.show()\n",
    "\n",
    "# The graph of g(x) \"x^20\" grows faster than f(x) \"2^x\" on the interval [0, 100]\n",
    "# Therefore g(x) is bigger than f(x)\n",
    " "
   ]
  },
  {
   "cell_type": "markdown",
   "id": "65Bb88f_K6qA",
   "metadata": {
    "id": "65Bb88f_K6qA"
   },
   "source": [
    "#### 3b"
   ]
  },
  {
   "cell_type": "code",
   "execution_count": 68,
   "id": "4qXGDGyJK594",
   "metadata": {
    "id": "4qXGDGyJK594"
   },
   "outputs": [
    {
     "ename": "TypeError",
     "evalue": "limit() missing 1 required positional argument: 'z0'",
     "output_type": "error",
     "traceback": [
      "\u001b[31m---------------------------------------------------------------------------\u001b[39m",
      "\u001b[31mTypeError\u001b[39m                                 Traceback (most recent call last)",
      "\u001b[36mCell\u001b[39m\u001b[36m \u001b[39m\u001b[32mIn[68]\u001b[39m\u001b[32m, line 7\u001b[39m\n\u001b[32m      1\u001b[39m \u001b[38;5;66;03m# The graph of g(x) \"x^20\" grows faster than f(x) \"2^x\" on the interval [0, 100] \u001b[39;00m\n\u001b[32m      2\u001b[39m \u001b[38;5;66;03m# as shown on 3A's plot\u001b[39;00m\n\u001b[32m      3\u001b[39m \n\u001b[32m      4\u001b[39m \u001b[38;5;66;03m# f(x) may be able to catch up to g(x) as 2^x grows faster than x^2 after x > 4\u001b[39;00m\n\u001b[32m      6\u001b[39m h = g/f\n\u001b[32m----> \u001b[39m\u001b[32m7\u001b[39m \u001b[38;5;28mprint\u001b[39m(\u001b[43mlimit\u001b[49m\u001b[43m(\u001b[49m\u001b[43mh\u001b[49m\u001b[43m,\u001b[49m\u001b[43m \u001b[49m\u001b[43mx\u001b[49m\u001b[43m)\u001b[49m)\n",
      "\u001b[31mTypeError\u001b[39m: limit() missing 1 required positional argument: 'z0'"
     ]
    }
   ],
   "source": [
    "# The graph of g(x) \"x^20\" grows faster than f(x) \"2^x\" on the interval [0, 100] \n",
    "# as shown on 3A's plot\n",
    "\n",
    "# f(x) may be able to catch up to g(x) as 2^x grows faster than x^2 after x > 4\n",
    "\n",
    "h = g/f\n",
    "print(limit(h, x))\n"
   ]
  },
  {
   "cell_type": "markdown",
   "id": "f0561a86",
   "metadata": {
    "id": "f0561a86"
   },
   "source": [
    "#### 3c"
   ]
  },
  {
   "cell_type": "code",
   "execution_count": 9,
   "id": "0889599a",
   "metadata": {
    "id": "0889599a"
   },
   "outputs": [],
   "source": [
    "# Start your code here\n",
    "\n"
   ]
  },
  {
   "cell_type": "markdown",
   "id": "80JdZClaMGeQ",
   "metadata": {
    "id": "80JdZClaMGeQ"
   },
   "source": [
    "#### 3d"
   ]
  },
  {
   "cell_type": "code",
   "execution_count": 10,
   "id": "311a556a",
   "metadata": {
    "id": "311a556a"
   },
   "outputs": [],
   "source": [
    "# Start your code here\n",
    "\n"
   ]
  },
  {
   "cell_type": "markdown",
   "id": "z4nVblzKQU1q",
   "metadata": {
    "id": "z4nVblzKQU1q"
   },
   "source": [
    "#### 3e"
   ]
  },
  {
   "cell_type": "code",
   "execution_count": 11,
   "id": "54YElK12QVgq",
   "metadata": {
    "id": "54YElK12QVgq"
   },
   "outputs": [],
   "source": [
    "# Start your code here\n",
    "\n"
   ]
  }
 ],
 "metadata": {
  "colab": {
   "provenance": []
  },
  "kernelspec": {
   "display_name": "Python 3",
   "language": "python",
   "name": "python3"
  },
  "language_info": {
   "codemirror_mode": {
    "name": "ipython",
    "version": 3
   },
   "file_extension": ".py",
   "mimetype": "text/x-python",
   "name": "python",
   "nbconvert_exporter": "python",
   "pygments_lexer": "ipython3",
   "version": "3.11.9"
  }
 },
 "nbformat": 4,
 "nbformat_minor": 5
}
