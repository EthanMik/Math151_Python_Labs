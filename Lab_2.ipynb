{
  "cells": [
    {
      "cell_type": "markdown",
      "id": "20c00fa5",
      "metadata": {
        "id": "20c00fa5"
      },
      "source": [
        "## MATH 151 Lab  2"
      ]
    },
    {
      "cell_type": "markdown",
      "id": "7c243ef1",
      "metadata": {
        "id": "7c243ef1"
      },
      "source": [
        "Put team members' names and section number here."
      ]
    },
    {
      "cell_type": "code",
      "execution_count": 1,
      "id": "cf836732",
      "metadata": {
        "id": "cf836732"
      },
      "outputs": [],
      "source": [
        "import sympy as sp\n",
        "from sympy import *\n",
        "from sympy.plotting import (plot,plot_parametric)"
      ]
    },
    {
      "cell_type": "markdown",
      "id": "2257758f",
      "metadata": {
        "id": "2257758f"
      },
      "source": [
        "Instructions: Complete the lab assignment in your assigned groups. Unless stated otherwise, your answers should be obtained using Python code.\n",
        "\n",
        "Do not modify the cell above, as it contains all the packages you will need. It is highly recommended to not use any additional packages."
      ]
    },
    {
      "cell_type": "markdown",
      "id": "3169990f",
      "metadata": {
        "id": "3169990f"
      },
      "source": [
        "### Question 1"
      ]
    },
    {
      "cell_type": "markdown",
      "id": "f0561a86",
      "metadata": {
        "id": "f0561a86"
      },
      "source": [
        "#### 1a"
      ]
    },
    {
      "cell_type": "code",
      "execution_count": 2,
      "id": "cbfab3f6",
      "metadata": {
        "colab": {
          "base_uri": "https://localhost:8080/",
          "height": 162
        },
        "id": "cbfab3f6",
        "outputId": "50efb724-568a-4b29-d7fc-350fdb0b5242"
      },
      "outputs": [],
      "source": [
        "#start code here"
      ]
    },
    {
      "cell_type": "markdown",
      "id": "efdd616f",
      "metadata": {
        "id": "efdd616f"
      },
      "source": [
        "#### 1b"
      ]
    },
    {
      "cell_type": "code",
      "execution_count": null,
      "id": "6fd5ac31",
      "metadata": {
        "id": "6fd5ac31"
      },
      "outputs": [
        {
          "data": {
            "text/plain": [
              "10"
            ]
          },
          "metadata": {},
          "output_type": "display_data"
        }
      ],
      "source": [
        "#start code here"
      ]
    },
    {
      "cell_type": "markdown",
      "id": "b330fdd8",
      "metadata": {
        "id": "b330fdd8"
      },
      "source": [
        "#### 1c"
      ]
    },
    {
      "cell_type": "code",
      "execution_count": 4,
      "id": "2df4a468",
      "metadata": {
        "id": "2df4a468"
      },
      "outputs": [],
      "source": [
        "#start code here\n",
        "\n"
      ]
    },
    {
      "cell_type": "markdown",
      "id": "33353f1d",
      "metadata": {
        "id": "33353f1d"
      },
      "source": [
        "### Question 2"
      ]
    },
    {
      "cell_type": "markdown",
      "id": "qGghlB93OnYP",
      "metadata": {
        "id": "qGghlB93OnYP"
      },
      "source": [
        "### 2a"
      ]
    },
    {
      "cell_type": "code",
      "execution_count": 5,
      "id": "hmG-u5aTO3Ml",
      "metadata": {
        "id": "hmG-u5aTO3Ml"
      },
      "outputs": [],
      "source": [
        "#start code here\n",
        "\n"
      ]
    },
    {
      "cell_type": "markdown",
      "id": "AMm535pXOmPW",
      "metadata": {
        "id": "AMm535pXOmPW"
      },
      "source": [
        "### 2b"
      ]
    },
    {
      "cell_type": "code",
      "execution_count": 6,
      "id": "jYfBV3prO8JN",
      "metadata": {
        "id": "jYfBV3prO8JN"
      },
      "outputs": [],
      "source": [
        "#start code here\n",
        "\n"
      ]
    },
    {
      "cell_type": "markdown",
      "id": "ESNVRKSvOifx",
      "metadata": {
        "id": "ESNVRKSvOifx"
      },
      "source": [
        "### 2c"
      ]
    },
    {
      "cell_type": "code",
      "execution_count": 7,
      "id": "N9uLKUz8O73M",
      "metadata": {
        "id": "N9uLKUz8O73M"
      },
      "outputs": [],
      "source": [
        "#start code here\n",
        "\n"
      ]
    },
    {
      "cell_type": "markdown",
      "id": "UbKnRjqmOcZh",
      "metadata": {
        "id": "UbKnRjqmOcZh"
      },
      "source": [
        "## Question 3"
      ]
    },
    {
      "cell_type": "markdown",
      "id": "b4d3d3ac",
      "metadata": {
        "id": "b4d3d3ac"
      },
      "source": [
        "#### 3a"
      ]
    },
    {
      "cell_type": "code",
      "execution_count": 8,
      "id": "a08b7797",
      "metadata": {
        "id": "a08b7797"
      },
      "outputs": [],
      "source": [
        "#start code here\n",
        "\n"
      ]
    },
    {
      "cell_type": "markdown",
      "id": "8111d61d",
      "metadata": {
        "id": "8111d61d"
      },
      "source": [
        "#### 3b"
      ]
    },
    {
      "cell_type": "code",
      "execution_count": 9,
      "id": "afbad488",
      "metadata": {
        "id": "afbad488"
      },
      "outputs": [],
      "source": [
        "#start code here\n",
        "\n"
      ]
    }
  ],
  "metadata": {
    "colab": {
      "provenance": []
    },
    "kernelspec": {
      "display_name": "Python 3",
      "language": "python",
      "name": "python3"
    },
    "language_info": {
      "codemirror_mode": {
        "name": "ipython",
        "version": 3
      },
      "file_extension": ".py",
      "mimetype": "text/x-python",
      "name": "python",
      "nbconvert_exporter": "python",
      "pygments_lexer": "ipython3",
      "version": "3.11.9"
    }
  },
  "nbformat": 4,
  "nbformat_minor": 5
}
